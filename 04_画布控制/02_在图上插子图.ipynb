{
 "cells": [
  {
   "cell_type": "code",
   "execution_count": 1,
   "metadata": {
    "collapsed": true
   },
   "outputs": [],
   "source": [
    "import numpy as np\n",
    "from matplotlib import pyplot as plt"
   ]
  },
  {
   "cell_type": "code",
   "execution_count": null,
   "metadata": {
    "collapsed": true
   },
   "outputs": [],
   "source": []
  },
  {
   "cell_type": "code",
   "execution_count": 3,
   "metadata": {},
   "outputs": [
    {
     "name": "stdout",
     "output_type": "stream",
     "text": [
      "  adjustable: [ 'box' | 'datalim' | 'box-forced'] \n",
      "  agg_filter: unknown\n",
      "  alpha: float (0.0 transparent through 1.0 opaque) \n",
      "  anchor: unknown\n",
      "  animated: [True | False] \n",
      "  aspect: unknown\n",
      "  autoscale_on: unknown\n",
      "  autoscalex_on: unknown\n",
      "  autoscaley_on: unknown\n",
      "  axes: an :class:`~matplotlib.axes.Axes` instance \n",
      "  axes_locator: unknown\n",
      "  axisbelow: [ *True* | *False* | 'line' ] \n",
      "  clip_box: a :class:`matplotlib.transforms.Bbox` instance \n",
      "  clip_on: [True | False] \n",
      "  clip_path: [ (:class:`~matplotlib.path.Path`, :class:`~matplotlib.transforms.Transform`) | :class:`~matplotlib.patches.Patch` | None ] \n",
      "  color_cycle: unknown\n",
      "  contains: a callable function \n",
      "  facecolor: unknown\n",
      "  fc: unknown\n",
      "  figure: unknown\n",
      "  frame_on: [ *True* | *False* ] \n",
      "  gid: an id string \n",
      "  label: string or anything printable with '%s' conversion. \n",
      "  navigate: [ *True* | *False* ] \n",
      "  navigate_mode: unknown\n",
      "  path_effects: unknown\n",
      "  picker: [None|float|boolean|callable] \n",
      "  position: unknown\n",
      "  rasterization_zorder: unknown\n",
      "  rasterized: [True | False | None] \n",
      "  sketch_params: unknown\n",
      "  snap: unknown\n",
      "  title: unknown\n",
      "  transform: :class:`~matplotlib.transforms.Transform` instance \n",
      "  url: a url string \n",
      "  visible: [True | False] \n",
      "  xbound: unknown\n",
      "  xlabel: unknown\n",
      "  xlim: unknown\n",
      "  xmargin: unknown\n",
      "  xscale: [u'linear' | u'log' | u'logit' | u'symlog']\n",
      "  xticklabels: sequence of strings\n",
      "  xticks: sequence of floats \n",
      "  ybound: unknown\n",
      "  ylabel: unknown\n",
      "  ylim: unknown\n",
      "  ymargin: unknown\n",
      "  yscale: [u'linear' | u'log' | u'logit' | u'symlog']\n",
      "  yticklabels: sequence of strings\n",
      "  yticks: sequence of floats\n",
      "  zorder: any number \n"
     ]
    },
    {
     "data": {
      "image/png": "[encoded data removed]",
      "text/plain": [
       "<matplotlib.figure.Figure at 0x7f2cea986090>"
      ]
     },
     "metadata": {},
     "output_type": "display_data"
    }
   ],
   "source": [
    "X = np.linspace(-6, 6, 1024)\n",
    "Y = np.sinc(X)\n",
    "X_detail = np.linspace(-3, 3, 1024)\n",
    "Y_detail = np.sinc(X_detail)\n",
    "plt.plot(X, Y, c = 'k')\n",
    "sub_axes = plt.axes([.6, .6, .25, .25])\n",
    "sub_axes.plot(X_detail, Y_detail, c = 'k')\n",
    "plt.setp(sub_axes)\n",
    "plt.show()"
   ]
  },
  {
   "cell_type": "code",
   "execution_count": null,
   "metadata": {
    "collapsed": true
   },
   "outputs": [],
   "source": []
  }
 ],
 "metadata": {
  "kernelspec": {
   "display_name": "Python 2",
   "language": "python",
   "name": "python2"
  },
  "language_info": {
   "codemirror_mode": {
    "name": "ipython",
    "version": 3
   },
   "file_extension": ".py",
   "mimetype": "text/x-python",
   "name": "python",
   "nbconvert_exporter": "python",
   "pygments_lexer": "ipython3",
   "version": "3.6.4"
  }
 },
 "nbformat": 4,
 "nbformat_minor": 2
}
