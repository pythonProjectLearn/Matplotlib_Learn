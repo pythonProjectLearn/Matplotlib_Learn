{
 "cells": [
  {
   "cell_type": "markdown",
   "metadata": {},
   "source": [
    "# 01 保存成png\n",
    "plt.savefig()"
   ]
  },
  {
   "cell_type": "code",
   "execution_count": 1,
   "metadata": {
    "collapsed": true
   },
   "outputs": [],
   "source": [
    "import numpy as np\n",
    "from matplotlib import pyplot as plt"
   ]
  },
  {
   "cell_type": "code",
   "execution_count": null,
   "metadata": {
    "collapsed": true
   },
   "outputs": [],
   "source": [
    "name_list = ('Omar', 'Serguey', 'Max', 'Zhou', 'Abidin')\n",
    "value_list = np.random.randint(99, size=len(name_list))\n",
    "pos_list = np.arange(len(name_list))\n",
    "plt.bar(pos_list, value_list, alpha = .75, color = '.75', align =\n",
    " 'center')\n",
    "plt.xticks(pos_list, name_list)\n"
   ]
  },
  {
   "cell_type": "code",
   "execution_count": null,
   "metadata": {
    "collapsed": true
   },
   "outputs": [],
   "source": [
    "plt.savefig('data/sinc.png', c = 'k')"
   ]
  },
  {
   "cell_type": "code",
   "execution_count": null,
   "metadata": {
    "collapsed": true
   },
   "outputs": [],
   "source": [
    "plt.plot(X, Y, c = 'k')\n",
    "plt.savefig('sinc.png', transparent = True)  # 可以用于网页"
   ]
  },
  {
   "cell_type": "code",
   "execution_count": null,
   "metadata": {
    "collapsed": true
   },
   "outputs": [],
   "source": [
    "plt.savefig('sinc.png', dpi = 300)  # 控制像素"
   ]
  },
  {
   "cell_type": "markdown",
   "metadata": {},
   "source": [
    "# 02 保存成PDF 或者svg文件"
   ]
  },
  {
   "cell_type": "markdown",
   "metadata": {},
   "source": [
    "### 保存一张图到一个pdf文件"
   ]
  },
  {
   "cell_type": "code",
   "execution_count": null,
   "metadata": {
    "collapsed": true
   },
   "outputs": [],
   "source": [
    "X = np.linspace(-10, 10, 1024)\n",
    "Y = np.sinc(X)\n",
    "plt.plot(X, Y)\n",
    "plt.savefig('sinc.pdf')"
   ]
  },
  {
   "cell_type": "markdown",
   "metadata": {},
   "source": [
    "### 保存多张图到一个pdf文件中"
   ]
  },
  {
   "cell_type": "code",
   "execution_count": null,
   "metadata": {
    "collapsed": true
   },
   "outputs": [],
   "source": [
    "import numpy as np\n",
    "from matplotlib import pyplot as plt\n",
    "from matplotlib.backends.backend_pdf import PdfPages\n",
    "# Generate the data\n",
    "data = np.random.randn(15, 1024)\n",
    "\n",
    "\n",
    "# The PDF document\n",
    "pdf_pages = PdfPages('barcharts.pdf')\n",
    "# Generate the pages\n",
    "plots_count = data.shape[0]\n",
    "plots_per_page = 5\n",
    "pages_count = int(np.ceil(plots_count / float(plots_per_page)))\n",
    "grid_size = (plots_per_page, 1)\n",
    "for i, samples in enumerate(data):\n",
    "    # Create a figure instance (ie. a new page) if needed    \n",
    "     if i % plots_per_page == 0:\n",
    "            fig = plt.figure(figsize=(8.27, 11.69), dpi=100)\n",
    "        \n",
    " # Plot one bar chart\n",
    "     plt.subplot2grid(grid_size, (i % plots_per_page, 0))    \n",
    "     plt.hist(samples, 32, normed=1, facecolor='.5', alpha=0.75)\n",
    " # Close the page if needed\n",
    "     if (i + 1) % plots_per_page == 0 or (i + 1) == plots_count:\n",
    "        plt.tight_layout()\n",
    "        pdf_pages.savefig(fig)\n",
    "# Write the PDF document to the disk\n",
    "pdf_pages.close()"
   ]
  }
 ],
 "metadata": {
  "kernelspec": {
   "display_name": "Python 2",
   "language": "python",
   "name": "python2"
  },
  "language_info": {
   "codemirror_mode": {
    "name": "ipython",
    "version": 2
   },
   "file_extension": ".py",
   "mimetype": "text/x-python",
   "name": "python",
   "nbconvert_exporter": "python",
   "pygments_lexer": "ipython2",
   "version": "2.7.13"
  }
 },
 "nbformat": 4,
 "nbformat_minor": 2
}
