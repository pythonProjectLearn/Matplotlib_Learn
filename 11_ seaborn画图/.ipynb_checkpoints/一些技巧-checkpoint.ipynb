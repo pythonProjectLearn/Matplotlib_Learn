{
 "cells": [
  {
   "cell_type": "markdown",
   "metadata": {},
   "source": [
    "# 1 批量保存图片\n",
    "如果只有一张图片，这没什么好说的，但是如果要对每个维度绘图，然后保存图片呢"
   ]
  },
  {
   "cell_type": "code",
   "execution_count": null,
   "metadata": {},
   "outputs": [],
   "source": [
    "fig = plt.figure()\n",
    "ax=fig.add_subplot(111)\n",
    "sub_data[years].plot(ax=ax, style='o-',title='%s 月销量趋势图'%lev3)\n",
    "file = r'E:\\服装预测\\销量趋势-%s.jpg' %lev3\n",
    "savefig(file)\n",
    "time.sleep(0.5)  # 注意这里要暂停一下，不然会出问题的\n",
    "plt.close()   # 最后记得关闭句柄"
   ]
  },
  {
   "cell_type": "markdown",
   "metadata": {},
   "source": [
    "# 2 中文显示"
   ]
  },
  {
   "cell_type": "code",
   "execution_count": 1,
   "metadata": {},
   "outputs": [],
   "source": [
    "import seaborn as sns\n",
    "import matplotlib as mpl\n",
    "import matplotlib.pyplot as plt\n",
    "from matplotlib.pyplot import savefig\n",
    "\n",
    "mpl.rcParams['font.sans-serif'] = ['SimHei']  # 指定默认字体\n",
    "mpl.rcParams['axes.unicode_minus'] = False  # 解决保存图像是负号'-'显示为方块的问题"
   ]
  },
  {
   "cell_type": "markdown",
   "metadata": {},
   "source": [
    "# 3.分段统计绘图"
   ]
  },
  {
   "cell_type": "code",
   "execution_count": 2,
   "metadata": {},
   "outputs": [
    {
     "ename": "SyntaxError",
     "evalue": "invalid syntax (<ipython-input-2-cc8b6dd7774e>, line 5)",
     "output_type": "error",
     "traceback": [
      "\u001b[0;36m  File \u001b[0;32m\"<ipython-input-2-cc8b6dd7774e>\"\u001b[0;36m, line \u001b[0;32m5\u001b[0m\n\u001b[0;31m    labels=['0-3','3-5.9',......]    # 区间命名\u001b[0m\n\u001b[0m                               ^\u001b[0m\n\u001b[0;31mSyntaxError\u001b[0m\u001b[0;31m:\u001b[0m invalid syntax\n"
     ]
    }
   ],
   "source": [
    "# 先用pd.cut分段，并取出分段数值\n",
    "# 通过 precision 控制小数的位数\n",
    "data['cut_point']=pd.cut(data['age'], \n",
    "    bins=[0,3,5.9,8.9,11.9,14.8,17.8,20.8,23.8,26.7,29.7],  # 分割点\n",
    "    labels=['0-3','3-5.9','6-10', '10-15']    # 区间命名\n",
    "    right=True,    # 区间默认是坐开右闭\n",
    "    precision=1)\n",
    "\n",
    "# 用sns画图，可以直接汇总每个分段的数量后绘图，而不需要groupby汇总\n",
    "# 相当于回到前面，用barplot绘图\n",
    "sns.barplot(x='cut_point',y='cnt', data=data, estimator=np.sum, ci=0)\n",
    "plt.xlabel('这是横坐标名称')\n",
    "plt.ylabel('这是纵坐标名称')\n",
    "plt.title('这是图标标题')"
   ]
  },
  {
   "cell_type": "markdown",
   "metadata": {},
   "source": [
    "# 4 分面绘图\n",
    "\n",
    "接下来好好说说这个比较难的，在10中我们分区间绘图，但是我们没有考虑platform这个因子变量啊，如果我们要考虑这个因子变量，就需要分面了，比如不同的platform画一个子图"
   ]
  },
  {
   "cell_type": "code",
   "execution_count": null,
   "metadata": {},
   "outputs": [],
   "source": [
    "# 和上面的一样，先分组取出分割点\n",
    "\n",
    "# 用pd.cut分段，并取出分段数值，通过 precision 控制小数的位数\n",
    "data['bins']=pd.cut(data['age'], bins=10,precision=1)\n",
    "# 取出分割点，因为cut后得到的是 '(2.99, 5.97]' 这样的字符串\n",
    "data['cut_point']=data['bins'].apply(lambda x: eval(x.replace(']',')'))[1])\n",
    "\n",
    "# 下面重点来了，用FacetGrid进行子图绘制\n",
    "g=sns.FacetGrid(data=data,col='platform',col_wrap=3,size=5)   # 这里相当于groupby\n",
    "g=g=g.map(sns.barplot,'cut_point','cnt',ci=0, estimator=np.sum)\n",
    "# 很奇怪的是，如果写 \n",
    "# g=g.map(sns.barplot,x='cut_point',y='cnt',ci=0, estimator=np.sum)就报错。\n"
   ]
  },
  {
   "cell_type": "code",
   "execution_count": null,
   "metadata": {},
   "outputs": [],
   "source": [
    "def my_barplot(x,y,**kwargs):\n",
    "    \"\"\"\n",
    "    自定义函数的时候，没有显示传入dataframe，但是会自动获取，很神奇吧。\n",
    "    x,y是dataframe的列名\n",
    "    \"\"\"\n",
    "    ax = plt.gca()  # 这个是重点，获取对应的ax子图句柄\n",
    "    data['bins']=pd.cut(data['age'], bins=10,precision=1)\n",
    "    data['cutpoint']=data['bins'].apply(lambda x: eval(x.replace(']', ')'))[1])\n",
    "    sns.barplot(x='cutpoint', y='cnt',data=data, estimator=np.sum, ci=0, ax=ax)\n",
    "\n",
    "g = sns.FacetGrid(data=data, col='platform',col_wrap=3,\n",
    "                    size=5,sharex=False)\n",
    "g = g.map(my_barplot,'age','cnt')"
   ]
  },
  {
   "cell_type": "markdown",
   "metadata": {},
   "source": [
    "# 5 颜色主题"
   ]
  },
  {
   "cell_type": "code",
   "execution_count": null,
   "metadata": {},
   "outputs": [],
   "source": [
    "import seaborn as sns\n",
    "sns.set()           # 恢复默认主题，在win10中开始的时候要执行一次。"
   ]
  },
  {
   "cell_type": "code",
   "execution_count": null,
   "metadata": {},
   "outputs": [],
   "source": [
    "# 其他几个主题\n",
    "sns.set_style(\"whitegrid\")  # 白色网格背景\n",
    "sns.set_style(\"darkgrid\")   # 灰色网格背景\n",
    "sns.set_style(\"dark\")       # 灰色背景\n",
    "sns.set_style(\"white\")      # 白色背景\n",
    "sns.set_style(\"ticks\")      # 四周加边框和刻度\n"
   ]
  },
  {
   "cell_type": "markdown",
   "metadata": {},
   "source": [
    "# 6 颜色\n",
    "颜色一般来说用默认的颜色就好了，而且也比较好看，如果非要设置颜色，可以通过sns.set_palette(\"husl\")设置。 \n",
    "常用的其他颜色模式还有"
   ]
  },
  {
   "cell_type": "code",
   "execution_count": null,
   "metadata": {},
   "outputs": [],
   "source": [
    "sns.set_palette(\"muted\")    # 常用\n",
    "sns.set_palette(\"RdBu\")\n",
    "sns.set_palette(\"Blues_d\")\n",
    "sns.set_palette(\"Set1\")\n",
    "sns.set_palette(\"RdBu\")"
   ]
  }
 ],
 "metadata": {
  "kernelspec": {
   "display_name": "Python 3",
   "language": "python",
   "name": "python3"
  },
  "language_info": {
   "codemirror_mode": {
    "name": "ipython",
    "version": 3
   },
   "file_extension": ".py",
   "mimetype": "text/x-python",
   "name": "python",
   "nbconvert_exporter": "python",
   "pygments_lexer": "ipython3",
   "version": "3.6.4"
  }
 },
 "nbformat": 4,
 "nbformat_minor": 2
}
