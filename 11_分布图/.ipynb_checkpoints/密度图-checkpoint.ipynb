{
 "cells": [
  {
   "cell_type": "code",
   "execution_count": 2,
   "metadata": {},
   "outputs": [],
   "source": [
    "import psycopg2\n",
    "import pandas as pd"
   ]
  },
  {
   "cell_type": "code",
   "execution_count": 11,
   "metadata": {},
   "outputs": [],
   "source": [
    "import seaborn as sns"
   ]
  },
  {
   "cell_type": "code",
   "execution_count": 36,
   "metadata": {},
   "outputs": [],
   "source": [
    "import seaborn.regression as regression"
   ]
  },
  {
   "cell_type": "code",
   "execution_count": 3,
   "metadata": {},
   "outputs": [],
   "source": [
    "\n",
    "class Postgresql(object):\n",
    "    def __init__(self, host, port, user, password, database):\n",
    "        try:\n",
    "            self.conn = psycopg2.connect(host=host, port=port, user=user, password=password, database=database)\n",
    "        except psycopg2.DatabaseError as e:\n",
    "            print('连接postgresql失败', e)\n",
    "        \n",
    "    def selectSql(self, sql):\n",
    "        with self.conn.cursor() as cursor:            \n",
    "            try:\n",
    "                cursor.execute(sql)\n",
    "                result = cursor.fetchall()\n",
    "                return result\n",
    "            except psycopg2.Error as e:\n",
    "                self.conn.rollback()\n",
    "                print('select事务失败', e)\n",
    "    def insertSql(self, sql):\n",
    "        with self.conn.cursor() as cursor:\n",
    "            try:\n",
    "                cursor.execute(sql)\n",
    "                self.conn.commit()\n",
    "                self.conn.close()\n",
    "            except psycopg2.Error as e:\n",
    "                self.conn.rollback()\n",
    "                print(\"insert 事务失败\", e)\n",
    "                \n",
    "    def updateSql(self, sql):\n",
    "        with self.conn.cursor() as cursor:\n",
    "            try:\n",
    "                cursor.execute(sql)\n",
    "                self.conn.commit()\n",
    "                self.conn.close()\n",
    "            except psycopg2.Error as e:\n",
    "                self.conn.rollback()\n",
    "                print(\"insert 事务失败\", e)\n",
    "    def delSql(self, sql):\n",
    "        with self.conn.cursor() as cursor:\n",
    "            try:\n",
    "                cursor.execute(sql)\n",
    "                self.conn.commit()\n",
    "                self.conn.close()\n",
    "            except psycopg2.Error as e:\n",
    "                self.conn.rollback()\n",
    "                print(\"insert 事务失败\", e)"
   ]
  },
  {
   "cell_type": "code",
   "execution_count": 4,
   "metadata": {},
   "outputs": [],
   "source": [
    "ps = Postgresql('localhost', '5432', 'postgres', 'postgres','zhoutao') \n",
    "result = ps.selectSql(\"select * from stocks_a where code='600117'\")\n",
    "result = pd.DataFrame(result)\n",
    "result.head()"
   ]
  },
  {
   "cell_type": "code",
   "execution_count": 10,
   "metadata": {},
   "outputs": [
    {
     "data": {
      "text/html": [
       "<div>\n",
       "<style scoped>\n",
       "    .dataframe tbody tr th:only-of-type {\n",
       "        vertical-align: middle;\n",
       "    }\n",
       "\n",
       "    .dataframe tbody tr th {\n",
       "        vertical-align: top;\n",
       "    }\n",
       "\n",
       "    .dataframe thead th {\n",
       "        text-align: right;\n",
       "    }\n",
       "</style>\n",
       "<table border=\"1\" class=\"dataframe\">\n",
       "  <thead>\n",
       "    <tr style=\"text-align: right;\">\n",
       "      <th></th>\n",
       "      <th>0</th>\n",
       "      <th>1</th>\n",
       "      <th>2</th>\n",
       "      <th>3</th>\n",
       "      <th>4</th>\n",
       "      <th>5</th>\n",
       "      <th>6</th>\n",
       "      <th>7</th>\n",
       "      <th>8</th>\n",
       "      <th>9</th>\n",
       "      <th>...</th>\n",
       "      <th>14</th>\n",
       "      <th>15</th>\n",
       "      <th>16</th>\n",
       "      <th>17</th>\n",
       "      <th>18</th>\n",
       "      <th>19</th>\n",
       "      <th>20</th>\n",
       "      <th>21</th>\n",
       "      <th>22</th>\n",
       "      <th>23</th>\n",
       "    </tr>\n",
       "  </thead>\n",
       "  <tbody>\n",
       "    <tr>\n",
       "      <th>0</th>\n",
       "      <td>600117</td>\n",
       "      <td>西宁特钢</td>\n",
       "      <td>4.80</td>\n",
       "      <td>0.44</td>\n",
       "      <td>10.09</td>\n",
       "      <td>260050.0</td>\n",
       "      <td>119238318.0</td>\n",
       "      <td>12.16</td>\n",
       "      <td>4.80</td>\n",
       "      <td>4.27</td>\n",
       "      <td>...</td>\n",
       "      <td>3.51</td>\n",
       "      <td>111.50</td>\n",
       "      <td>1.59</td>\n",
       "      <td>5.016568e+09</td>\n",
       "      <td>3.557853e+09</td>\n",
       "      <td>-0.1351</td>\n",
       "      <td>-0.1710</td>\n",
       "      <td>0.00</td>\n",
       "      <td>1997-10-15</td>\n",
       "      <td>2018-06-14 15:00:00</td>\n",
       "    </tr>\n",
       "    <tr>\n",
       "      <th>1</th>\n",
       "      <td>600117</td>\n",
       "      <td>西宁特钢</td>\n",
       "      <td>4.88</td>\n",
       "      <td>0.08</td>\n",
       "      <td>1.67</td>\n",
       "      <td>479815.0</td>\n",
       "      <td>237050725.0</td>\n",
       "      <td>11.46</td>\n",
       "      <td>5.26</td>\n",
       "      <td>4.71</td>\n",
       "      <td>...</td>\n",
       "      <td>6.47</td>\n",
       "      <td>113.35</td>\n",
       "      <td>1.62</td>\n",
       "      <td>5.100177e+09</td>\n",
       "      <td>3.617150e+09</td>\n",
       "      <td>-0.0597</td>\n",
       "      <td>-0.1572</td>\n",
       "      <td>0.41</td>\n",
       "      <td>1997-10-15</td>\n",
       "      <td>2018-06-15 15:00:00</td>\n",
       "    </tr>\n",
       "    <tr>\n",
       "      <th>2</th>\n",
       "      <td>600117</td>\n",
       "      <td>西宁特钢</td>\n",
       "      <td>4.55</td>\n",
       "      <td>-0.33</td>\n",
       "      <td>-6.76</td>\n",
       "      <td>278126.0</td>\n",
       "      <td>126633767.0</td>\n",
       "      <td>8.40</td>\n",
       "      <td>4.80</td>\n",
       "      <td>4.39</td>\n",
       "      <td>...</td>\n",
       "      <td>3.75</td>\n",
       "      <td>105.69</td>\n",
       "      <td>1.51</td>\n",
       "      <td>4.755288e+09</td>\n",
       "      <td>3.372548e+09</td>\n",
       "      <td>-0.1333</td>\n",
       "      <td>-0.2142</td>\n",
       "      <td>1.79</td>\n",
       "      <td>1997-10-15</td>\n",
       "      <td>2018-06-19 15:00:00</td>\n",
       "    </tr>\n",
       "    <tr>\n",
       "      <th>3</th>\n",
       "      <td>600117</td>\n",
       "      <td>西宁特钢</td>\n",
       "      <td>5.01</td>\n",
       "      <td>0.46</td>\n",
       "      <td>10.11</td>\n",
       "      <td>375205.0</td>\n",
       "      <td>182824251.0</td>\n",
       "      <td>10.11</td>\n",
       "      <td>5.01</td>\n",
       "      <td>4.55</td>\n",
       "      <td>...</td>\n",
       "      <td>5.06</td>\n",
       "      <td>116.37</td>\n",
       "      <td>1.66</td>\n",
       "      <td>5.236043e+09</td>\n",
       "      <td>3.713509e+09</td>\n",
       "      <td>-0.0328</td>\n",
       "      <td>-0.1347</td>\n",
       "      <td>0.00</td>\n",
       "      <td>1997-10-15</td>\n",
       "      <td>2018-06-20 15:00:00</td>\n",
       "    </tr>\n",
       "    <tr>\n",
       "      <th>4</th>\n",
       "      <td>600117</td>\n",
       "      <td>西宁特钢</td>\n",
       "      <td>5.51</td>\n",
       "      <td>0.50</td>\n",
       "      <td>9.98</td>\n",
       "      <td>829976.0</td>\n",
       "      <td>446551568.0</td>\n",
       "      <td>6.99</td>\n",
       "      <td>5.51</td>\n",
       "      <td>5.16</td>\n",
       "      <td>...</td>\n",
       "      <td>11.20</td>\n",
       "      <td>127.99</td>\n",
       "      <td>1.83</td>\n",
       "      <td>5.758602e+09</td>\n",
       "      <td>4.084118e+09</td>\n",
       "      <td>0.1824</td>\n",
       "      <td>-0.0484</td>\n",
       "      <td>0.00</td>\n",
       "      <td>1997-10-15</td>\n",
       "      <td>2018-06-21 15:00:00</td>\n",
       "    </tr>\n",
       "  </tbody>\n",
       "</table>\n",
       "<p>5 rows × 24 columns</p>\n",
       "</div>"
      ],
      "text/plain": [
       "       0     1     2     3      4         5            6      7     8     9   \\\n",
       "0  600117  西宁特钢  4.80  0.44  10.09  260050.0  119238318.0  12.16  4.80  4.27   \n",
       "1  600117  西宁特钢  4.88  0.08   1.67  479815.0  237050725.0  11.46  5.26  4.71   \n",
       "2  600117  西宁特钢  4.55 -0.33  -6.76  278126.0  126633767.0   8.40  4.80  4.39   \n",
       "3  600117  西宁特钢  5.01  0.46  10.11  375205.0  182824251.0  10.11  5.01  4.55   \n",
       "4  600117  西宁特钢  5.51  0.50   9.98  829976.0  446551568.0   6.99  5.51  5.16   \n",
       "\n",
       "          ...             14      15    16            17            18  \\\n",
       "0         ...           3.51  111.50  1.59  5.016568e+09  3.557853e+09   \n",
       "1         ...           6.47  113.35  1.62  5.100177e+09  3.617150e+09   \n",
       "2         ...           3.75  105.69  1.51  4.755288e+09  3.372548e+09   \n",
       "3         ...           5.06  116.37  1.66  5.236043e+09  3.713509e+09   \n",
       "4         ...          11.20  127.99  1.83  5.758602e+09  4.084118e+09   \n",
       "\n",
       "       19      20    21          22                  23  \n",
       "0 -0.1351 -0.1710  0.00  1997-10-15 2018-06-14 15:00:00  \n",
       "1 -0.0597 -0.1572  0.41  1997-10-15 2018-06-15 15:00:00  \n",
       "2 -0.1333 -0.2142  1.79  1997-10-15 2018-06-19 15:00:00  \n",
       "3 -0.0328 -0.1347  0.00  1997-10-15 2018-06-20 15:00:00  \n",
       "4  0.1824 -0.0484  0.00  1997-10-15 2018-06-21 15:00:00  \n",
       "\n",
       "[5 rows x 24 columns]"
      ]
     },
     "execution_count": 10,
     "metadata": {},
     "output_type": "execute_result"
    }
   ],
   "source": []
  },
  {
   "cell_type": "code",
   "execution_count": 29,
   "metadata": {},
   "outputs": [],
   "source": [
    "## 获得西宁特钢的收盘价\n",
    "close_price = result.iloc[:, 2]\n",
    "close_price.index = result.iloc[:, 23]\n",
    "close_price.index.names = ['time']\n",
    "close_price.name = '600117_close_price'"
   ]
  },
  {
   "cell_type": "markdown",
   "metadata": {},
   "source": [
    "# 时间序列"
   ]
  },
  {
   "cell_type": "code",
   "execution_count": 30,
   "metadata": {},
   "outputs": [
    {
     "data": {
      "text/plain": [
       "<matplotlib.axes._subplots.AxesSubplot at 0x7f9a0edc8f60>"
      ]
     },
     "execution_count": 30,
     "metadata": {},
     "output_type": "execute_result"
    },
    {
     "data": {
      "image/png": "[encoded data removed]",
      "text/plain": [
       "<matplotlib.figure.Figure at 0x7f9a0ee828d0>"
      ]
     },
     "metadata": {},
     "output_type": "display_data"
    }
   ],
   "source": [
    "sns.set_style('whitegrid')\n",
    "close_price.plot(legend=True, figsize=(10, 4))"
   ]
  },
  {
   "cell_type": "markdown",
   "metadata": {},
   "source": [
    "# 核密度估计"
   ]
  },
  {
   "cell_type": "code",
   "execution_count": 23,
   "metadata": {},
   "outputs": [
    {
     "data": {
      "text/plain": [
       "<matplotlib.axes._subplots.AxesSubplot at 0x7f9a0eef8dd8>"
      ]
     },
     "execution_count": 23,
     "metadata": {},
     "output_type": "execute_result"
    },
    {
     "data": {
      "image/png": "[encoded data removed]",
      "text/plain": [
       "<matplotlib.figure.Figure at 0x7f9a0eef8390>"
      ]
     },
     "metadata": {},
     "output_type": "display_data"
    }
   ],
   "source": [
    "sns.kdeplot(close_price.dropna())"
   ]
  },
  {
   "cell_type": "markdown",
   "metadata": {},
   "source": [
    "# 核密度估计 + 直方图"
   ]
  },
  {
   "cell_type": "code",
   "execution_count": 25,
   "metadata": {},
   "outputs": [
    {
     "data": {
      "text/plain": [
       "<matplotlib.axes._subplots.AxesSubplot at 0x7f9a0ee52278>"
      ]
     },
     "execution_count": 25,
     "metadata": {},
     "output_type": "execute_result"
    },
    {
     "data": {
      "image/png": "[encoded data removed]",
      "text/plain": [
       "<matplotlib.figure.Figure at 0x7f9a0ee681d0>"
      ]
     },
     "metadata": {},
     "output_type": "display_data"
    }
   ],
   "source": [
    "sns.distplot(close_price.dropna(), bins=100)"
   ]
  },
  {
   "cell_type": "markdown",
   "metadata": {},
   "source": [
    "# 两条序列的person相关系数"
   ]
  },
  {
   "cell_type": "code",
   "execution_count": 28,
   "metadata": {},
   "outputs": [],
   "source": [
    "## 获得西宁特钢的开盘价\n",
    "open_price = result.iloc[:, 10]\n",
    "open_price.index = result.iloc[:, 23]\n",
    "open_price.index.names = ['time']\n",
    "open_price.name = '600117_open_price'"
   ]
  },
  {
   "cell_type": "code",
   "execution_count": 31,
   "metadata": {},
   "outputs": [
    {
     "data": {
      "text/plain": [
       "<seaborn.axisgrid.JointGrid at 0x7f9a0ed18da0>"
      ]
     },
     "execution_count": 31,
     "metadata": {},
     "output_type": "execute_result"
    },
    {
     "data": {
      "image/png": "[encoded data removed]",
      "text/plain": [
       "<matplotlib.figure.Figure at 0x7f9a0ed18d30>"
      ]
     },
     "metadata": {},
     "output_type": "display_data"
    }
   ],
   "source": [
    "sns.jointplot(close_price, open_price, alpha=0.2)"
   ]
  },
  {
   "cell_type": "code",
   "execution_count": null,
   "metadata": {},
   "outputs": [],
   "source": [
    "# 多个条序列的persion相关系数"
   ]
  },
  {
   "cell_type": "code",
   "execution_count": null,
   "metadata": {},
   "outputs": [],
   "source": []
  }
 ],
 "metadata": {
  "kernelspec": {
   "display_name": "Python 3",
   "language": "python",
   "name": "python3"
  },
  "language_info": {
   "codemirror_mode": {
    "name": "ipython",
    "version": 3
   },
   "file_extension": ".py",
   "mimetype": "text/x-python",
   "name": "python",
   "nbconvert_exporter": "python",
   "pygments_lexer": "ipython3",
   "version": "3.6.4"
  }
 },
 "nbformat": 4,
 "nbformat_minor": 2
}
