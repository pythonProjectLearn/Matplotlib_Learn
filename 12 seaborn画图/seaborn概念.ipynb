{
 "cells": [
  {
   "cell_type": "markdown",
   "metadata": {},
   "source": [
    "# seaborm画图\n",
    "在seaborn中图形大概分这么几类，因子变量绘图，数值变量绘图，两变量关系绘图，时间序列图，热力图，分面绘图等。\n",
    "\n",
    "## 1. 因子变量绘图\n",
    "\n",
    ">箱线图boxplot\n",
    "\n",
    ">小提琴图violinplot\n",
    "\n",
    ">散点图striplot\n",
    "\n",
    ">带分布的散点图swarmplot\n",
    "\n",
    ">直方图barplot\n",
    "\n",
    ">计数的直方图countplot\n",
    "\n",
    ">两变量关系图factorplot\n",
    "\n",
    "## 2. 回归图 \n",
    "回归图只要探讨两连续数值变量的变化趋势情况，绘制x-y的散点图和回归曲线。\n",
    "\n",
    ">线性回归图lmplot\n",
    "\n",
    ">线性回归图regplot\n",
    "\n",
    "## 3. 分布图 \n",
    "包括单变量核密度曲线，直方图，双变量多变量的联合直方图，和密度图\n",
    "\n",
    "## 4. 热力图 \n",
    "1. 热力图heatmap\n",
    "\n",
    "## 5. 聚类图 \n",
    "1. 聚类图clustermap\n",
    "\n",
    "## 6. 时间序列图 \n",
    "1. 时间序列图tsplot \n",
    "2. 我的时序图plot_ts_d , plot_ts_m\n",
    "\n",
    "## 7. 分面绘图 \n",
    "1.分面绘图FacetGrid\n"
   ]
  },
  {
   "cell_type": "code",
   "execution_count": null,
   "metadata": {},
   "outputs": [],
   "source": []
  },
  {
   "cell_type": "code",
   "execution_count": null,
   "metadata": {},
   "outputs": [],
   "source": []
  }
 ],
 "metadata": {
  "kernelspec": {
   "display_name": "Python 3",
   "language": "python",
   "name": "python3"
  },
  "language_info": {
   "codemirror_mode": {
    "name": "ipython",
    "version": 3
   },
   "file_extension": ".py",
   "mimetype": "text/x-python",
   "name": "python",
   "nbconvert_exporter": "python",
   "pygments_lexer": "ipython3",
   "version": "3.6.4"
  }
 },
 "nbformat": 4,
 "nbformat_minor": 2
}
